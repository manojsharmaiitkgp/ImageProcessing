{
 "cells": [
  {
   "cell_type": "code",
   "execution_count": 1,
   "metadata": {},
   "outputs": [],
   "source": [
    "import numpy as np"
   ]
  },
  {
   "cell_type": "code",
   "execution_count": 2,
   "metadata": {},
   "outputs": [],
   "source": [
    "# n=1\n",
    "# st=18\n",
    "# last=st*n-1\n",
    "# print('last=\\n',last)\n",
    "# val=np.arange(start=1, stop=last, step=n)\n",
    "# print(val)\n",
    "# newarr = val.reshape(4, 4)\n",
    "# print(newarr)"
   ]
  },
  {
   "cell_type": "code",
   "execution_count": 4,
   "metadata": {},
   "outputs": [
    {
     "name": "stdout",
     "output_type": "stream",
     "text": [
      "[[ 1  2  3  4]\n",
      " [ 5  6  7  8]\n",
      " [ 9 10 11 12]\n",
      " [13 14 15 16]]\n"
     ]
    }
   ],
   "source": [
    "newarr = np.array([[1, 2, 3,4], [ 5, 6, 7,8], [9, 10,11,12], [13,14,15,16]])\n",
    "img=newarr\n",
    "print(img)\n"
   ]
  },
  {
   "cell_type": "code",
   "execution_count": 5,
   "metadata": {},
   "outputs": [],
   "source": [
    "# output=np.convolve(img)\n",
    "# print(output)"
   ]
  },
  {
   "cell_type": "code",
   "execution_count": 6,
   "metadata": {},
   "outputs": [
    {
     "name": "stdout",
     "output_type": "stream",
     "text": [
      "kernel=\n",
      " [[1 1 1]\n",
      " [1 1 1]\n",
      " [1 1 1]]\n",
      "img=\n",
      " [[ 1  2  3  4]\n",
      " [ 5  6  7  8]\n",
      " [ 9 10 11 12]\n",
      " [13 14 15 16]]\n"
     ]
    }
   ],
   "source": [
    "from scipy import signal\n",
    "kernel=np.array([[1, 1, 1], [1, 1, 1], [1, 1, 1]])\n",
    "print('kernel=\\n',kernel)\n",
    "print('img=\\n',img)"
   ]
  },
  {
   "cell_type": "code",
   "execution_count": null,
   "metadata": {},
   "outputs": [],
   "source": []
  },
  {
   "cell_type": "code",
   "execution_count": 7,
   "metadata": {},
   "outputs": [
    {
     "name": "stdout",
     "output_type": "stream",
     "text": [
      "output=\n",
      " [[ 1  3  6  9  7  4]\n",
      " [ 6 14 24 30 22 12]\n",
      " [15 33 54 63 45 24]\n",
      " [27 57 90 99 69 36]\n",
      " [22 46 72 78 54 28]\n",
      " [13 27 42 45 31 16]]\n"
     ]
    }
   ],
   "source": [
    "# Convolve two 2-dimensional arrays.\n",
    "# Convolve in1 and in2 with output size determined by mode, and boundary conditions determined by boundary and fillvalue.\n",
    "# https://docs.scipy.org/doc/scipy/reference/generated/scipy.signal.convolve2d.html\n",
    "\n",
    "# output = signal.convolve2d(img, kernel, boundary='symm', mode='same')\n",
    "output = signal.convolve2d(img, kernel,fillvalue=0)\n",
    "print('output=\\n',output)"
   ]
  },
  {
   "cell_type": "code",
   "execution_count": null,
   "metadata": {},
   "outputs": [],
   "source": []
  },
  {
   "cell_type": "code",
   "execution_count": 8,
   "metadata": {},
   "outputs": [
    {
     "name": "stdout",
     "output_type": "stream",
     "text": [
      "output=\n",
      " [[14 24 30 22]\n",
      " [33 54 63 45]\n",
      " [57 90 99 69]\n",
      " [46 72 78 54]]\n"
     ]
    }
   ],
   "source": [
    "# pad input arrays with fillvalue. (default)\n",
    "output = signal.convolve2d(img, kernel, boundary='fill', mode='same',fillvalue=0)\n",
    "print('output=\\n',output)"
   ]
  },
  {
   "cell_type": "code",
   "execution_count": 9,
   "metadata": {},
   "outputs": [],
   "source": [
    "# output = signal.convolve2d(img, kernel, boundary='wrap', mode='same')\n",
    "# print('output=\\n',output)"
   ]
  },
  {
   "cell_type": "code",
   "execution_count": 10,
   "metadata": {},
   "outputs": [],
   "source": [
    "# # pad input arrays with fillvalue. (default)\n",
    "# output = signal.convolve2d(img, kernel, boundary='fill', fillvalue=0)\n",
    "# print('output=\\n',output)"
   ]
  },
  {
   "cell_type": "code",
   "execution_count": null,
   "metadata": {},
   "outputs": [],
   "source": []
  },
  {
   "cell_type": "code",
   "execution_count": null,
   "metadata": {},
   "outputs": [],
   "source": []
  },
  {
   "cell_type": "code",
   "execution_count": null,
   "metadata": {},
   "outputs": [],
   "source": []
  }
 ],
 "metadata": {
  "kernelspec": {
   "display_name": "Python 3",
   "language": "python",
   "name": "python3"
  },
  "language_info": {
   "codemirror_mode": {
    "name": "ipython",
    "version": 3
   },
   "file_extension": ".py",
   "mimetype": "text/x-python",
   "name": "python",
   "nbconvert_exporter": "python",
   "pygments_lexer": "ipython3",
   "version": "3.8.3"
  }
 },
 "nbformat": 4,
 "nbformat_minor": 4
}
