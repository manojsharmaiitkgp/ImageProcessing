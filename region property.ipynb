{
 "cells": [
  {
   "cell_type": "code",
   "execution_count": 14,
   "metadata": {},
   "outputs": [
    {
     "data": {
      "image/png": "[encoded data removed]",
      "text/plain": [
       "<Figure size 432x288 with 4 Axes>"
      ]
     },
     "metadata": {
      "needs_background": "light"
     },
     "output_type": "display_data"
    },
    {
     "name": "stdout",
     "output_type": "stream",
     "text": [
      "Label: 1 >> Object size: 37 \n",
      "Label: 2 >> Object size: 66 \n",
      "Label: 3 >> Object size: 1 \n"
     ]
    }
   ],
   "source": [
    "from skimage.io import imread, imshow\n",
    "from skimage.filters import gaussian, threshold_otsu\n",
    "from skimage import measure\n",
    "import matplotlib.pyplot as plt\n",
    "\n",
    "original = imread('https://i.stack.imgur.com/nkQpj.png')\n",
    "blurred = gaussian(original, sigma=.8)\n",
    "binary = blurred > threshold_otsu(blurred)\n",
    "labels = measure.label(binary)\n",
    "\n",
    "plots = {'Original': original, 'Blurred': blurred, \n",
    "         'Binary': binary, 'Labels': labels}\n",
    "\n",
    "# plt.figure(figsize=(12,12))\n",
    "fig, ax = plt.subplots(1, len(plots))\n",
    "for n, (title, img) in enumerate(plots.items()):\n",
    "    cmap = plt.cm.gnuplot if n == len(plots) - 1 else plt.cm.gray\n",
    "    ax[n].imshow(img, cmap=cmap)\n",
    "    ax[n].axis('off')\n",
    "    ax[n].set_title(title)\n",
    "plt.show(fig)\n",
    "\n",
    "props = measure.regionprops(labels)\n",
    "for prop in props:\n",
    "    print('Label: {} >> Object size: {} '.format(prop.label, prop.area, prop.major_axis_length))"
   ]
  },
  {
   "cell_type": "code",
   "execution_count": 6,
   "metadata": {},
   "outputs": [
    {
     "data": {
      "text/plain": [
       "0.0"
      ]
     },
     "execution_count": 6,
     "metadata": {},
     "output_type": "execute_result"
    }
   ],
   "source": [
    "prop.major_axis_length"
   ]
  },
  {
   "cell_type": "code",
   "execution_count": null,
   "metadata": {},
   "outputs": [],
   "source": []
  },
  {
   "cell_type": "code",
   "execution_count": null,
   "metadata": {},
   "outputs": [],
   "source": []
  }
 ],
 "metadata": {
  "kernelspec": {
   "display_name": "Python 3",
   "language": "python",
   "name": "python3"
  },
  "language_info": {
   "codemirror_mode": {
    "name": "ipython",
    "version": 3
   },
   "file_extension": ".py",
   "mimetype": "text/x-python",
   "name": "python",
   "nbconvert_exporter": "python",
   "pygments_lexer": "ipython3",
   "version": "3.8.3"
  }
 },
 "nbformat": 4,
 "nbformat_minor": 4
}
